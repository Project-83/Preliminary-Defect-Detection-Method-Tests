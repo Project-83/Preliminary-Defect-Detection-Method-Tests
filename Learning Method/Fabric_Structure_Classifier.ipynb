{
 "cells": [
  {
   "cell_type": "code",
   "execution_count": 158,
   "metadata": {
    "executionInfo": {
     "elapsed": 5530,
     "status": "ok",
     "timestamp": 1653619912242,
     "user": {
      "displayName": "Darpan Kapadia",
      "userId": "18117898231472413261"
     },
     "user_tz": -720
    },
    "id": "6dhchMTM99M-"
   },
   "outputs": [],
   "source": [
    "import gc\n",
    "import os,h5py\n",
    "from torch.utils.data import Dataset, DataLoader\n",
    "from torchvision import transforms\n",
    "from torchvision.utils import make_grid\n",
    "import numpy as np\n",
    "import pandas as pd\n",
    "from sklearn.metrics import confusion_matrix\n",
    "from torchsummary import summary\n",
    "# from model import resnet\n",
    "import torch\n",
    "from torch import nn,optim\n",
    "from torchvision.models import resnet18\n",
    "from torchvision.models import resnet34\n",
    "import matplotlib.pyplot as plt\n",
    "from tqdm import tqdm"
   ]
  },
  {
   "cell_type": "code",
   "execution_count": 159,
   "metadata": {
    "executionInfo": {
     "elapsed": 311,
     "status": "ok",
     "timestamp": 1653619382436,
     "user": {
      "displayName": "Darpan Kapadia",
      "userId": "18117898231472413261"
     },
     "user_tz": -720
    },
    "id": "DK1jdjmMu3Ca"
   },
   "outputs": [],
   "source": [
    "from torch.nn.modules.pooling import MaxPool2d\n",
    "from torch.nn.modules.activation import ReLU\n",
    "# import torch\n",
    "# resnet = torch.hub.load('pytorch/vision:v0.10.0', 'resnet18', pretrained=False)\n",
    "class Resnet(nn.Module):\n",
    "\n",
    "  def __init__(self):\n",
    "    super().__init__()\n",
    "    self.layers = nn.Sequential(\n",
    "      nn.Conv2d(),\n",
    "      nn.BatchNorm2d(),\n",
    "      nn.MaxPool2d(),\n",
    "      # nn.Conv2dAuto(), \n",
    "      nn.BatchNorm2d(), \n",
    "      nn.ResNetBasicBlock(), \n",
    "      nn.Conv2d(), \n",
    "\n",
    "      nn.ReLU(), \n",
    "      nn.Conv2d(), \n",
    "      nn.Conv2d(), \n",
    "      nn.Conv2d(),\n",
    "\n",
    "      nn.Conv2d(), \n",
    "      nn.Conv2d(), \n",
    "      nn.Conv2d(), \n",
    "      nn.Conv2d(),\n",
    "\n",
    "      nn.Conv2d(), \n",
    "      nn.Conv2d(), \n",
    "      nn.Conv2d(), \n",
    "      nn.Conv2d(),  \n",
    "    )\n",
    "\n",
    "\n",
    "  def forward(self, x):\n",
    "    '''Forward pass'''\n",
    "    return self.layers(x)\n",
    "  "
   ]
  },
  {
   "cell_type": "code",
   "execution_count": 160,
   "metadata": {
    "executionInfo": {
     "elapsed": 382,
     "status": "ok",
     "timestamp": 1653619916445,
     "user": {
      "displayName": "Darpan Kapadia",
      "userId": "18117898231472413261"
     },
     "user_tz": -720
    },
    "id": "dUgMWeb4-3LA"
   },
   "outputs": [],
   "source": [
    "EXAMPLE_DATA_ROOT_FOLDER = './MVTec company'"
   ]
  },
  {
   "cell_type": "code",
   "execution_count": 161,
   "metadata": {
    "executionInfo": {
     "elapsed": 554,
     "status": "ok",
     "timestamp": 1653619918597,
     "user": {
      "displayName": "Darpan Kapadia",
      "userId": "18117898231472413261"
     },
     "user_tz": -720
    },
    "id": "tZf10MOv-_5m"
   },
   "outputs": [],
   "source": [
    "class TextureDataset(Dataset):\n",
    "    filenames = {64: dict(train=('train64.csv', 'train64.h5'), test=('test64.csv', 'test64.h5')),\n",
    "                 32: dict(train=('train32.csv', 'train32.h5'), test=('test32.csv','test32.h5'))}\n",
    "                 \n",
    "    indication_classes = ['index', 'angle', 'indication_type', 'indication_value', 'split']\n",
    "\n",
    "    def __init__(self,root_folder, train=True, patch_size=64, classification=True, task='defect',keep_angles=True,keep_defects=False, transformation=None, test_sub_sample=200):\n",
    "        if os.path.exists(root_folder):\n",
    "            self.root_folder = root_folder\n",
    "        else:\n",
    "            raise IOError(f'The path of the directory is incorrect or doesn\\'t exist for {root_folder}')\n",
    "        \n",
    "        self.patch_size = patch_size if patch_size in self.filenames.keys() else 32\n",
    "        self.infos, self.data = self.load_data(train)\n",
    "\n",
    "        if train:\n",
    "            if classification:\n",
    "                print('Classification Task:', end=' ')\n",
    "                if task=='defect' and not keep_angles:    \n",
    "                    self.infos = self.infos.loc[self.infos['angle']==0]\n",
    "                    print('Drop all angles others than 0')\n",
    "                elif task=='angle' and not keep_defects:\n",
    "                    self.infos = self.infos.loc[self.infos['indication_type']=='good']\n",
    "                    print('Drop all defect (all other than good)')\n",
    "                else:\n",
    "                    print('Keepíng all the data')\n",
    "                    pass\n",
    "            else:\n",
    "                print('By default only keep healthy')\n",
    "                self.infos = self.infos.loc[(self.infos['indication_type']=='good') & (self.infos['angle']==0)]\n",
    "            self.data = self.data[self.infos.index]\n",
    "        self.transformation = transforms.Compose([transforms.ToTensor()]) if transformation is None  else  transformation\n",
    "        \n",
    "        \n",
    "        if not train and test_sub_sample:\n",
    "            X = []\n",
    "            newinfo = pd.DataFrame()\n",
    "            for (a,t), df in self.infos.groupby(['angle','indication_type']):\n",
    "                index = df.index\n",
    "                subi = np.random.choice(index, test_sub_sample, replace=False)\n",
    "                X.append(self.data[subi])\n",
    "                newinfo = newinfo.append(self.infos.iloc[subi],ignore_index=True)\n",
    "            self.infos = newinfo\n",
    "            self.data = np.concatenate(X)\n",
    "    \n",
    "    def __len__(self):\n",
    "        return self.infos.shape[0]\n",
    "        \n",
    "    def __getitem__(self,index):\n",
    "        info = self.infos.iloc[index]\n",
    "        angle, indication_value = int(info['angle'])//20, int(info['indication_value'])\n",
    "        img = self.data[index]\n",
    "        \n",
    "        return self.transformation(img),angle, indication_value\n",
    "            \n",
    "    \n",
    "    def load_data(self,train):\n",
    "        files = self.filenames[self.patch_size]\n",
    "        infos_filename, data_filename = files['train'] if train else files['test']\n",
    "        \n",
    "        infos = pd.read_csv(os.path.join(self.root_folder,infos_filename))\n",
    "        data = None\n",
    "        with h5py.File(os.path.join(self.root_folder,data_filename),mode='r') as h5file:\n",
    "            data = h5file['images'][:]\n",
    "        return infos, data        \n",
    "    \n",
    "    @staticmethod\n",
    "    def get_angles_classes():\n",
    "        return np.arange(8)* 20\n",
    "    @staticmethod\n",
    "    def get_indication_classes():\n",
    "        return ['good', 'color', 'cut',  'hole', 'thread', 'metal_contamination']\n",
    "    @staticmethod\n",
    "    def compute_normalization_parameters(root):\n",
    "        print('#### Compute Mean and Std of image for image scaling')\n",
    "        dataset = TextureDataset(root_folder=root, classification=True,task='angle',keep_defects=False)\n",
    "        loader = DataLoader(dataset,batch_size=15, num_workers=4, shuffle=True)\n",
    "        mean = 0.\n",
    "        std = 0.\n",
    "        for images, _,_ in loader:\n",
    "            batch_samples = images.size(0) # batch size (the last batch can have smaller size!)\n",
    "            images = images.view(batch_samples, images.size(1), -1)\n",
    "            mean += images.mean(2).sum(0)\n",
    "            std += images.std(2).sum(0)\n",
    "\n",
    "        mean /= len(loader.dataset)\n",
    "        std /= len(loader.dataset)\n",
    "        print(f\"\"\" Normalize the data as following:\n",
    "        transformation = transforms.Compose([transforms.ToTensor(), transforms.Normalize({mean}, {std} )])\n",
    "        this function return the object Normalize the new mean and std: transforms.Normalize({mean}, {std} )\n",
    "        \"\"\")\n",
    "        return transforms.Normalize(mean, std )"
   ]
  },
  {
   "cell_type": "code",
   "execution_count": 162,
   "metadata": {
    "executionInfo": {
     "elapsed": 415,
     "status": "ok",
     "timestamp": 1653619958529,
     "user": {
      "displayName": "Darpan Kapadia",
      "userId": "18117898231472413261"
     },
     "user_tz": -720
    },
    "id": "yMjlCTSbsPgn"
   },
   "outputs": [],
   "source": [
    "class Trainer(object):\n",
    "    def __init__(self, model,  modelname, optimizer, criterion,  train_loader, val_loader,no_epochs=5, device='cpu',target_type='defect',lr=1e-1, *args,**kwargs):\n",
    "        \n",
    "        assert target_type in ['angle','defect']\n",
    "        self.no_epochs = no_epochs\n",
    "        self.target_type = target_type\n",
    "        self.model = model.to(device)\n",
    "        self.modelname = modelname\n",
    "        self.criterion = criterion\n",
    "        self.optimizer = optimizer(self.model.parameters(),lr=lr) \n",
    "        \n",
    "        self.train_loader, self.valid_loader = train_loader, val_loader\n",
    "        print(\"Total_params\",sum(p.numel() for p in model.parameters()))\n",
    "        print(\"Trainable_params\",sum(p.numel() for p in model.parameters() if p.requires_grad))\n",
    "        self.device = device\n",
    "        \n",
    "\n",
    "    def train_an_epoch(self):\n",
    "        self.model.train()\n",
    "        train_loss = 0.0\n",
    "        for data in tqdm(self.train_loader):\n",
    "            \n",
    "            if self.target_type =='angle':\n",
    "                data, target, _ = data\n",
    "            else:\n",
    "                data, _, target = data\n",
    "            data, target = data.to(self.device), target.to(self.device)\n",
    "            # clear the gradients of all optimized variables\n",
    "            self.optimizer.zero_grad()\n",
    "            # forward pass: compute predicted outputs by passing inputs to the model\n",
    "            output = self.model(data)\n",
    "            # calculate the batch loss\n",
    "            loss = self.criterion(output, target)\n",
    "            # backward pass: compute gradient of the loss with respect to model parameters\n",
    "            loss.backward()\n",
    "            # perform a single optimization step (parameter update)\n",
    "            self.optimizer.step()\n",
    "            # update training loss\n",
    "            train_loss += loss.item()*data.size(0)\n",
    "        return train_loss\n",
    "        \n",
    "    def valid_an_epoch(self):\n",
    "        valid_loss = 0.0\n",
    "        self.model.eval()\n",
    "        \n",
    "        OUTPUT = []\n",
    "        TARGET = []\n",
    "        for data in tqdm(self.valid_loader):\n",
    "            if self.target_type =='angle':\n",
    "                data, target, _ = data\n",
    "            else:\n",
    "                data, _, target = data\n",
    "            data, target = data.to(self.device), target.to(self.device)\n",
    "            # forward pass: compute predicted outputs by passing inputs to the model\n",
    "            output = self.model(data)\n",
    "            # calculate the batch loss\n",
    "            loss = self.criterion(output, target)\n",
    "            # update average validation loss \n",
    "            valid_loss += loss.item()*data.size(0)            \n",
    "            # converting raw _logits to softmax output\n",
    "            output = nn.functional.softmax(output,dim=-1).detach().cpu().numpy()\n",
    "            OUTPUT.append(np.argmax(output, axis=-1))\n",
    "            TARGET.append(target.detach().cpu().numpy())\n",
    "        return valid_loss, self.accuracy_per_class(np.concatenate(OUTPUT),np.concatenate(TARGET))\n",
    "    \n",
    "    def accuracy_per_class(self,ouput,target):\n",
    "        matrix = confusion_matrix(target, ouput)\n",
    "        return matrix.diagonal()/matrix.sum(axis=1), matrix\n",
    "    \n",
    "    def train(self):\n",
    "        accuracy = []\n",
    "        confusion = []\n",
    "        alltrainloss = []\n",
    "        allvalidloss = []\n",
    "        for epoch in range(1, self.no_epochs+1):\n",
    "\n",
    "            train_loss = self.train_an_epoch()\n",
    "            valid_loss, accuracy_perclass = self.valid_an_epoch()\n",
    "            train_loss = train_loss/len(self.train_loader.sampler)\n",
    "            valid_loss = valid_loss/len(self.valid_loader.sampler)\n",
    "            gc.collect()\n",
    "            \n",
    "            if epoch == 1:\n",
    "                best_loss = valid_loss\n",
    "            elif valid_loss < best_loss:\n",
    "                best_loss = valid_loss\n",
    "                torch.save(self.model.state_dict(), f\"{self.modelname}.pt\")\n",
    "\n",
    "            alltrainloss.append(train_loss)\n",
    "            allvalidloss.append(valid_loss)\n",
    "            acc = accuracy_perclass[0].reshape(1,-1)\n",
    "            conf = accuracy_perclass[1]\n",
    "            accuracy.append(acc)\n",
    "            confusion.append(conf)\n",
    "            # print training/validation statistics \n",
    "            print(f'Epoch: {epoch} \\tTraining Loss: {train_loss:.6f} \\tValidation Loss: {valid_loss:.6f}')\n",
    "\n",
    "        figure,axes = plt.subplots(1,2,figsize=(10,8))\n",
    "        ax1,ax2= axes.ravel()\n",
    "        linet, = ax1.plot(alltrainloss,label='Train')\n",
    "        linev, = ax1.plot(allvalidloss,label='Valid')\n",
    "        ax1.legend([linet,linev],['train','valid'])\n",
    "        labels = TextureDataset.get_indication_classes() if self.target_type=='defect' else TextureDataset.get_angles_classes()\n",
    "        lines = []\n",
    "        for i, c in  zip(labels, np.concatenate(accuracy).T):\n",
    "            line, = ax2.plot(c, label=i)\n",
    "            lines.append(line)\n",
    "        ax2.legend(lines,labels)\n",
    "\n",
    "        bestIndex = allvalidloss.index(best_loss)\n",
    "        print(f\"Lowest validation loss achieved after epoch {bestIndex + 1}\")\n",
    "        bestAvg = 0\n",
    "        for ind, acc in enumerate(accuracy):\n",
    "            current = np.average(acc)\n",
    "            if current > bestAvg:\n",
    "                bestAvg = current\n",
    "                bestAvgIndex = ind\n",
    "\n",
    "        print(f\"Best Model Accuracies: {accuracy[bestIndex]}\\nBest Model Average: {np.average(accuracy[bestIndex])}\\nBest Accuracy: {bestAvg} at epoch {bestAvgIndex+1}\\nBest Model Confusion Matrix:\\n{confusion[bestIndex]}\")"
   ]
  },
  {
   "cell_type": "code",
   "execution_count": 169,
   "metadata": {
    "executionInfo": {
     "elapsed": 7,
     "status": "ok",
     "timestamp": 1653619971291,
     "user": {
      "displayName": "Darpan Kapadia",
      "userId": "18117898231472413261"
     },
     "user_tz": -720
    },
    "id": "hcPDMUezsc7U"
   },
   "outputs": [],
   "source": [
    "class CNN(nn.Module):\n",
    "    def __init__(self, nclasses, in_channel=1,*args,**kwargs):\n",
    "        super(CNN, self).__init__()\n",
    "        print(nclasses)\n",
    "        self.encoder = nn.Sequential(nn.Conv2d(1, 32, kernel_size=3),nn.BatchNorm2d(32),nn.ReLU(),\n",
    "                                     nn.AvgPool2d(2),\n",
    "                                     nn.Conv2d(32, 64, kernel_size=3),nn.BatchNorm2d(64),nn.ReLU(),\n",
    "                                     nn.AvgPool2d(2),\n",
    "                                     nn.Conv2d(64, 32, kernel_size=1),\n",
    "                                     nn.AdaptiveAvgPool2d(1))\n",
    "        self.l = nn.Linear(32, nclasses)\n",
    "        \n",
    "    def forward(self, x):\n",
    "        x = self.encoder(x)\n",
    "        x= x.view(x.shape[0],-1)\n",
    "        return self.l(x)"
   ]
  },
  {
   "cell_type": "code",
   "execution_count": 164,
   "metadata": {
    "executionInfo": {
     "elapsed": 317,
     "status": "ok",
     "timestamp": 1653619982907,
     "user": {
      "displayName": "Darpan Kapadia",
      "userId": "18117898231472413261"
     },
     "user_tz": -720
    },
    "id": "15cg05_AshyZ"
   },
   "outputs": [],
   "source": [
    "def getdataloader(root, patch_size=64, task='defect',batch_size=32,keep_angles=False,test_sub_sample=False,num_workers=0, *args,**kwargs):\n",
    "    transformation = transforms.Compose([transforms.ToTensor(), transforms.Normalize([0.3541], [0.1352]), transforms.RandomErasing(0.3, value=0)])\n",
    "    dataset = TextureDataset(root,train=True, classification=True, task=task, transformation=transformation,keep_angles=keep_angles)\n",
    "    train_loader = DataLoader(dataset=dataset,batch_size=batch_size,shuffle=True,num_workers=num_workers, pin_memory=True)\n",
    "    transformation = transforms.Compose([transforms.ToTensor(), transforms.Normalize([0.3541], [0.1352])])\n",
    "    dataset = TextureDataset(root,train=False, classification=True, task=task, transformation=transformation,test_sub_sample=test_sub_sample)\n",
    "    val_loader = DataLoader(dataset=dataset,batch_size=int(batch_size*2),shuffle=False,num_workers=num_workers)\n",
    "    return train_loader, val_loader\n",
    "    \n",
    "def get_model(modeltype='cnn',  nclasses=6, no_of_channels=1,*args,**kwargs):\n",
    "    if modeltype =='resnet18': \n",
    "        model = resnet18(pretrained=True)\n",
    "        model.conv1 = torch.nn.Conv2d(1, 64, kernel_size=(7, 7), stride=(2, 2), padding=(3, 3), bias=False)\n",
    "        model.fc = torch.nn.Linear(model.fc.in_features, 6)\n",
    "        \n",
    "    elif modeltype =='resnet34': \n",
    "        model = resnet34(pretrained=True)\n",
    "        model.conv1 = torch.nn.Conv2d(1, 64, kernel_size=(7, 7), stride=(2, 2), padding=(3, 3), bias=False)\n",
    "        model.fc = torch.nn.Linear(model.fc.in_features, 6)\n",
    "    else:model = CNN(nclasses=nclasses, in_channel=no_of_channels)\n",
    "    return model, modeltype\n",
    "        \n",
    "    \n",
    "def run(options):\n",
    "    gc.collect()\n",
    "    torch.cuda.empty_cache()\n",
    "    train_loader, val_loader = getdataloader(**options)        \n",
    "    model, modelname = get_model(**options)\n",
    "    summary(model, (1,options['patch_size'],options['patch_size']),1,'cpu')\n",
    "    trainer = Trainer(model=model, modelname=modelname, optimizer=optim.Adam, criterion=nn.CrossEntropyLoss(),  train_loader=train_loader, val_loader=val_loader, **options)\n",
    "    trainer.train()\n",
    "    gc.collect()\n",
    "    model.eval()"
   ]
  },
  {
   "cell_type": "markdown",
   "metadata": {
    "id": "ZMVeg5QRso49"
   },
   "source": [
    "**ResNet18**"
   ]
  },
  {
   "cell_type": "code",
   "execution_count": 165,
   "metadata": {
    "id": "0h1ZVLcXskbc"
   },
   "outputs": [
    {
     "name": "stdout",
     "output_type": "stream",
     "text": [
      "Classification Task: Keepíng all the data\n"
     ]
    },
    {
     "name": "stderr",
     "output_type": "stream",
     "text": [
      "C:\\Users\\Playtech\\AppData\\Local\\Temp\\ipykernel_5128\\1650925562.py:42: FutureWarning: The frame.append method is deprecated and will be removed from pandas in a future version. Use pandas.concat instead.\n",
      "  newinfo = newinfo.append(self.infos.iloc[subi],ignore_index=True)\n"
     ]
    },
    {
     "name": "stdout",
     "output_type": "stream",
     "text": [
      "----------------------------------------------------------------\n",
      "        Layer (type)               Output Shape         Param #\n",
      "================================================================\n",
      "            Conv2d-1            [1, 64, 16, 16]           3,136\n",
      "       BatchNorm2d-2            [1, 64, 16, 16]             128\n",
      "              ReLU-3            [1, 64, 16, 16]               0\n",
      "         MaxPool2d-4              [1, 64, 8, 8]               0\n",
      "            Conv2d-5              [1, 64, 8, 8]          36,864\n",
      "       BatchNorm2d-6              [1, 64, 8, 8]             128\n",
      "              ReLU-7              [1, 64, 8, 8]               0\n",
      "            Conv2d-8              [1, 64, 8, 8]          36,864\n",
      "       BatchNorm2d-9              [1, 64, 8, 8]             128\n",
      "             ReLU-10              [1, 64, 8, 8]               0\n",
      "       BasicBlock-11              [1, 64, 8, 8]               0\n",
      "           Conv2d-12              [1, 64, 8, 8]          36,864\n",
      "      BatchNorm2d-13              [1, 64, 8, 8]             128\n",
      "             ReLU-14              [1, 64, 8, 8]               0\n",
      "           Conv2d-15              [1, 64, 8, 8]          36,864\n",
      "      BatchNorm2d-16              [1, 64, 8, 8]             128\n",
      "             ReLU-17              [1, 64, 8, 8]               0\n",
      "       BasicBlock-18              [1, 64, 8, 8]               0\n",
      "           Conv2d-19             [1, 128, 4, 4]          73,728\n",
      "      BatchNorm2d-20             [1, 128, 4, 4]             256\n",
      "             ReLU-21             [1, 128, 4, 4]               0\n",
      "           Conv2d-22             [1, 128, 4, 4]         147,456\n",
      "      BatchNorm2d-23             [1, 128, 4, 4]             256\n",
      "           Conv2d-24             [1, 128, 4, 4]           8,192\n",
      "      BatchNorm2d-25             [1, 128, 4, 4]             256\n",
      "             ReLU-26             [1, 128, 4, 4]               0\n",
      "       BasicBlock-27             [1, 128, 4, 4]               0\n",
      "           Conv2d-28             [1, 128, 4, 4]         147,456\n",
      "      BatchNorm2d-29             [1, 128, 4, 4]             256\n",
      "             ReLU-30             [1, 128, 4, 4]               0\n",
      "           Conv2d-31             [1, 128, 4, 4]         147,456\n",
      "      BatchNorm2d-32             [1, 128, 4, 4]             256\n",
      "             ReLU-33             [1, 128, 4, 4]               0\n",
      "       BasicBlock-34             [1, 128, 4, 4]               0\n",
      "           Conv2d-35             [1, 256, 2, 2]         294,912\n",
      "      BatchNorm2d-36             [1, 256, 2, 2]             512\n",
      "             ReLU-37             [1, 256, 2, 2]               0\n",
      "           Conv2d-38             [1, 256, 2, 2]         589,824\n",
      "      BatchNorm2d-39             [1, 256, 2, 2]             512\n",
      "           Conv2d-40             [1, 256, 2, 2]          32,768\n",
      "      BatchNorm2d-41             [1, 256, 2, 2]             512\n",
      "             ReLU-42             [1, 256, 2, 2]               0\n",
      "       BasicBlock-43             [1, 256, 2, 2]               0\n",
      "           Conv2d-44             [1, 256, 2, 2]         589,824\n",
      "      BatchNorm2d-45             [1, 256, 2, 2]             512\n",
      "             ReLU-46             [1, 256, 2, 2]               0\n",
      "           Conv2d-47             [1, 256, 2, 2]         589,824\n",
      "      BatchNorm2d-48             [1, 256, 2, 2]             512\n",
      "             ReLU-49             [1, 256, 2, 2]               0\n",
      "       BasicBlock-50             [1, 256, 2, 2]               0\n",
      "           Conv2d-51             [1, 512, 1, 1]       1,179,648\n",
      "      BatchNorm2d-52             [1, 512, 1, 1]           1,024\n",
      "             ReLU-53             [1, 512, 1, 1]               0\n",
      "           Conv2d-54             [1, 512, 1, 1]       2,359,296\n",
      "      BatchNorm2d-55             [1, 512, 1, 1]           1,024\n",
      "           Conv2d-56             [1, 512, 1, 1]         131,072\n",
      "      BatchNorm2d-57             [1, 512, 1, 1]           1,024\n",
      "             ReLU-58             [1, 512, 1, 1]               0\n",
      "       BasicBlock-59             [1, 512, 1, 1]               0\n",
      "           Conv2d-60             [1, 512, 1, 1]       2,359,296\n",
      "      BatchNorm2d-61             [1, 512, 1, 1]           1,024\n",
      "             ReLU-62             [1, 512, 1, 1]               0\n",
      "           Conv2d-63             [1, 512, 1, 1]       2,359,296\n",
      "      BatchNorm2d-64             [1, 512, 1, 1]           1,024\n",
      "             ReLU-65             [1, 512, 1, 1]               0\n",
      "       BasicBlock-66             [1, 512, 1, 1]               0\n",
      "AdaptiveAvgPool2d-67             [1, 512, 1, 1]               0\n",
      "           Linear-68                     [1, 6]           3,078\n",
      "================================================================\n",
      "Total params: 11,173,318\n",
      "Trainable params: 11,173,318\n",
      "Non-trainable params: 0\n",
      "----------------------------------------------------------------\n",
      "Input size (MB): 0.00\n",
      "Forward/backward pass size (MB): 1.29\n",
      "Params size (MB): 42.62\n",
      "Estimated Total Size (MB): 43.91\n",
      "----------------------------------------------------------------\n",
      "Total_params 11173318\n",
      "Trainable_params 11173318\n"
     ]
    },
    {
     "name": "stderr",
     "output_type": "stream",
     "text": [
      "100%|██████████| 120/120 [00:14<00:00,  8.52it/s]\n",
      "100%|██████████| 12/12 [00:01<00:00,  7.45it/s]\n"
     ]
    },
    {
     "name": "stdout",
     "output_type": "stream",
     "text": [
      "Epoch: 1 \tTraining Loss: 0.511294 \tValidation Loss: 1.065117\n"
     ]
    },
    {
     "name": "stderr",
     "output_type": "stream",
     "text": [
      "100%|██████████| 120/120 [00:14<00:00,  8.53it/s]\n",
      "100%|██████████| 12/12 [00:01<00:00,  7.54it/s]\n"
     ]
    },
    {
     "name": "stdout",
     "output_type": "stream",
     "text": [
      "Epoch: 2 \tTraining Loss: 0.196464 \tValidation Loss: 1.526151\n"
     ]
    },
    {
     "name": "stderr",
     "output_type": "stream",
     "text": [
      "100%|██████████| 120/120 [00:14<00:00,  8.46it/s]\n",
      "100%|██████████| 12/12 [00:01<00:00,  7.53it/s]\n"
     ]
    },
    {
     "name": "stdout",
     "output_type": "stream",
     "text": [
      "Epoch: 3 \tTraining Loss: 0.120737 \tValidation Loss: 1.661237\n"
     ]
    },
    {
     "name": "stderr",
     "output_type": "stream",
     "text": [
      "100%|██████████| 120/120 [00:14<00:00,  8.48it/s]\n",
      "100%|██████████| 12/12 [00:01<00:00,  7.52it/s]\n"
     ]
    },
    {
     "name": "stdout",
     "output_type": "stream",
     "text": [
      "Epoch: 4 \tTraining Loss: 0.085373 \tValidation Loss: 1.689679\n"
     ]
    },
    {
     "name": "stderr",
     "output_type": "stream",
     "text": [
      "100%|██████████| 120/120 [00:14<00:00,  8.06it/s]\n",
      "100%|██████████| 12/12 [00:01<00:00,  6.65it/s]\n"
     ]
    },
    {
     "name": "stdout",
     "output_type": "stream",
     "text": [
      "Epoch: 5 \tTraining Loss: 0.066705 \tValidation Loss: 1.936599\n",
      "Lowest validation loss achieved after epoch 1\n",
      "Best Model Accuracies: [[0.94375  0.936875 0.555625 0.346875 0.479375 0.9325  ]]\n",
      "Best Model Average: 0.6991666666666667\n",
      "Best Accuracy: 0.7071875 at epoch 5\n",
      "Best Model Confusion Matrix:\n",
      "[[1510   14   40   23    6    7]\n",
      " [  41 1499   27   27    1    5]\n",
      " [ 224   17  889  432   29    9]\n",
      " [ 137    3  795  555   87   23]\n",
      " [  41   65  403  255  767   69]\n",
      " [   3    7   10   25   63 1492]]\n"
     ]
    },
    {
     "data": {
      "image/png": "[encoded data removed]",
      "text/plain": [
       "<Figure size 720x576 with 2 Axes>"
      ]
     },
     "metadata": {
      "needs_background": "light"
     },
     "output_type": "display_data"
    }
   ],
   "source": [
    "parameter_dict=dict(root=EXAMPLE_DATA_ROOT_FOLDER, patch_size=32, batch_size=400, task='defect', nclasses = len(TextureDataset.get_indication_classes()), \n",
    "                    device = torch.device(\"cuda\" if torch.cuda.is_available() else \"cpu\"), lr=5e-4, no_epochs=5, keep_angles=True, test_sub_sample=200,num_workers=0, modeltype='resnet18')\n",
    "run(parameter_dict)"
   ]
  },
  {
   "cell_type": "markdown",
   "metadata": {
    "id": "gILXAPCH4jjS"
   },
   "source": [
    "**CNN**"
   ]
  },
  {
   "cell_type": "code",
   "execution_count": 170,
   "metadata": {
    "colab": {
     "base_uri": "https://localhost:8080/",
     "height": 982,
     "referenced_widgets": [
      "bd482f612083441c9608defe0342aef7",
      "c05fb99191224e08923964da4989c535",
      "9db71a75911545ec90586597769a0816",
      "2bc3506e9bf04c5bb7f5483dc5ee8fcf",
      "4d74f398952545a896337b79933c7b23",
      "ecbbe60771994a0b92ac1c3c66e4a37b",
      "cebc85536e6246728b22fa16680f5d48",
      "22ddeb169d414bab81b6a2d639c2b021",
      "23a1722f22c14cdda0c4e589cd7dcda4",
      "63cff91fd70446e1b7f393470220130b",
      "0dcd919177a64e02816e1c77f43b6b14",
      "ae77f2eb878c4b2ab9818af24b24748e",
      "f7528c7cfcf5442db97a2acf8b13e710",
      "a77407723e23428b91793ca5e8249088",
      "c89827caf89c4ebb9f83cb4412155533",
      "389ffff49d474f1681b22f5fb3a4fdd2",
      "44c97b8be972447d8933f3d670c31301",
      "83c1340e6cb9423283f9f8492d80a6b2",
      "3cc1431196864e97b53e930a34a4944a",
      "743606c0275d40b48f6b2198c1295f05",
      "49ba21f3a1c24519ae44fe76d8c0922c",
      "7a5fe5d405424e59a5e0837f8b198bc4"
     ]
    },
    "executionInfo": {
     "elapsed": 48461,
     "status": "error",
     "timestamp": 1653620035057,
     "user": {
      "displayName": "Darpan Kapadia",
      "userId": "18117898231472413261"
     },
     "user_tz": -720
    },
    "id": "g_GAC5bS5Pn0",
    "outputId": "7d6060f9-b96a-4d5f-c542-5fab70d61350"
   },
   "outputs": [
    {
     "name": "stdout",
     "output_type": "stream",
     "text": [
      "Classification Task: Keepíng all the data\n"
     ]
    },
    {
     "name": "stderr",
     "output_type": "stream",
     "text": [
      "C:\\Users\\Playtech\\AppData\\Local\\Temp\\ipykernel_5128\\1650925562.py:42: FutureWarning: The frame.append method is deprecated and will be removed from pandas in a future version. Use pandas.concat instead.\n",
      "  newinfo = newinfo.append(self.infos.iloc[subi],ignore_index=True)\n"
     ]
    },
    {
     "name": "stdout",
     "output_type": "stream",
     "text": [
      "6\n",
      "----------------------------------------------------------------\n",
      "        Layer (type)               Output Shape         Param #\n",
      "================================================================\n",
      "            Conv2d-1            [1, 32, 30, 30]             320\n",
      "       BatchNorm2d-2            [1, 32, 30, 30]              64\n",
      "              ReLU-3            [1, 32, 30, 30]               0\n",
      "         AvgPool2d-4            [1, 32, 15, 15]               0\n",
      "            Conv2d-5            [1, 64, 13, 13]          18,496\n",
      "       BatchNorm2d-6            [1, 64, 13, 13]             128\n",
      "              ReLU-7            [1, 64, 13, 13]               0\n",
      "         AvgPool2d-8              [1, 64, 6, 6]               0\n",
      "            Conv2d-9              [1, 32, 6, 6]           2,080\n",
      "AdaptiveAvgPool2d-10              [1, 32, 1, 1]               0\n",
      "           Linear-11                     [1, 6]             198\n",
      "================================================================\n",
      "Total params: 21,286\n",
      "Trainable params: 21,286\n",
      "Non-trainable params: 0\n",
      "----------------------------------------------------------------\n",
      "Input size (MB): 0.00\n",
      "Forward/backward pass size (MB): 0.99\n",
      "Params size (MB): 0.08\n",
      "Estimated Total Size (MB): 1.07\n",
      "----------------------------------------------------------------\n",
      "Total_params 21286\n",
      "Trainable_params 21286\n"
     ]
    },
    {
     "name": "stderr",
     "output_type": "stream",
     "text": [
      "100%|██████████| 120/120 [00:13<00:00,  9.12it/s]\n",
      "100%|██████████| 12/12 [00:01<00:00,  7.83it/s]\n"
     ]
    },
    {
     "name": "stdout",
     "output_type": "stream",
     "text": [
      "Epoch: 1 \tTraining Loss: 1.440154 \tValidation Loss: 1.372080\n"
     ]
    },
    {
     "name": "stderr",
     "output_type": "stream",
     "text": [
      "100%|██████████| 120/120 [00:13<00:00,  9.09it/s]\n",
      "100%|██████████| 12/12 [00:01<00:00,  8.27it/s]\n"
     ]
    },
    {
     "name": "stdout",
     "output_type": "stream",
     "text": [
      "Epoch: 2 \tTraining Loss: 1.211745 \tValidation Loss: 1.129584\n"
     ]
    },
    {
     "name": "stderr",
     "output_type": "stream",
     "text": [
      "100%|██████████| 120/120 [00:13<00:00,  9.10it/s]\n",
      "100%|██████████| 12/12 [00:01<00:00,  6.96it/s]\n"
     ]
    },
    {
     "name": "stdout",
     "output_type": "stream",
     "text": [
      "Epoch: 3 \tTraining Loss: 1.049290 \tValidation Loss: 0.990211\n"
     ]
    },
    {
     "name": "stderr",
     "output_type": "stream",
     "text": [
      "100%|██████████| 120/120 [00:12<00:00,  9.30it/s]\n",
      "100%|██████████| 12/12 [00:01<00:00,  7.04it/s]\n"
     ]
    },
    {
     "name": "stdout",
     "output_type": "stream",
     "text": [
      "Epoch: 4 \tTraining Loss: 0.986018 \tValidation Loss: 0.962176\n"
     ]
    },
    {
     "name": "stderr",
     "output_type": "stream",
     "text": [
      "100%|██████████| 120/120 [00:13<00:00,  9.14it/s]\n",
      "100%|██████████| 12/12 [00:01<00:00,  7.02it/s]\n"
     ]
    },
    {
     "name": "stdout",
     "output_type": "stream",
     "text": [
      "Epoch: 5 \tTraining Loss: 0.946544 \tValidation Loss: 0.954710\n",
      "Lowest validation loss achieved after epoch 5\n",
      "Best Model Accuracies: [[0.6475   0.800625 0.640625 0.235625 0.468125 0.970625]]\n",
      "Best Model Average: 0.6271875000000001\n",
      "Best Accuracy: 0.6271875000000001 at epoch 5\n",
      "Best Model Confusion Matrix:\n",
      "[[1036    0  143  258   49  114]\n",
      " [  14 1281  174   58    7   66]\n",
      " [ 190   63 1025  275   21   26]\n",
      " [ 253   14  864  377   59   33]\n",
      " [  81   90  489  121  749   70]\n",
      " [   5    6   32    4    0 1553]]\n"
     ]
    },
    {
     "data": {
      "image/png": "[encoded data removed]",
      "text/plain": [
       "<Figure size 720x576 with 2 Axes>"
      ]
     },
     "metadata": {
      "needs_background": "light"
     },
     "output_type": "display_data"
    }
   ],
   "source": [
    "parameter_dict=dict(root=EXAMPLE_DATA_ROOT_FOLDER, patch_size=32, batch_size=400, task='defect', nclasses = len(TextureDataset.get_indication_classes()), \n",
    "                    device = torch.device(\"cuda\" if torch.cuda.is_available() else \"cpu\"), lr=5e-4, no_epochs=5, keep_angles=True, test_sub_sample=200,num_workers=0, modeltype='cnn')\n",
    "\n",
    "run(parameter_dict)"
   ]
  },
  {
   "cell_type": "markdown",
   "metadata": {
    "id": "o2G0xlwS5YGv"
   },
   "source": [
    "**ResNet34**"
   ]
  },
  {
   "cell_type": "code",
   "execution_count": 167,
   "metadata": {
    "id": "Sl2x9gJ-5i7E"
   },
   "outputs": [
    {
     "name": "stdout",
     "output_type": "stream",
     "text": [
      "Classification Task: Keepíng all the data\n"
     ]
    },
    {
     "name": "stderr",
     "output_type": "stream",
     "text": [
      "C:\\Users\\Playtech\\AppData\\Local\\Temp\\ipykernel_5128\\1650925562.py:42: FutureWarning: The frame.append method is deprecated and will be removed from pandas in a future version. Use pandas.concat instead.\n",
      "  newinfo = newinfo.append(self.infos.iloc[subi],ignore_index=True)\n"
     ]
    },
    {
     "name": "stdout",
     "output_type": "stream",
     "text": [
      "----------------------------------------------------------------\n",
      "        Layer (type)               Output Shape         Param #\n",
      "================================================================\n",
      "            Conv2d-1            [1, 64, 16, 16]           3,136\n",
      "       BatchNorm2d-2            [1, 64, 16, 16]             128\n",
      "              ReLU-3            [1, 64, 16, 16]               0\n",
      "         MaxPool2d-4              [1, 64, 8, 8]               0\n",
      "            Conv2d-5              [1, 64, 8, 8]          36,864\n",
      "       BatchNorm2d-6              [1, 64, 8, 8]             128\n",
      "              ReLU-7              [1, 64, 8, 8]               0\n",
      "            Conv2d-8              [1, 64, 8, 8]          36,864\n",
      "       BatchNorm2d-9              [1, 64, 8, 8]             128\n",
      "             ReLU-10              [1, 64, 8, 8]               0\n",
      "       BasicBlock-11              [1, 64, 8, 8]               0\n",
      "           Conv2d-12              [1, 64, 8, 8]          36,864\n",
      "      BatchNorm2d-13              [1, 64, 8, 8]             128\n",
      "             ReLU-14              [1, 64, 8, 8]               0\n",
      "           Conv2d-15              [1, 64, 8, 8]          36,864\n",
      "      BatchNorm2d-16              [1, 64, 8, 8]             128\n",
      "             ReLU-17              [1, 64, 8, 8]               0\n",
      "       BasicBlock-18              [1, 64, 8, 8]               0\n",
      "           Conv2d-19              [1, 64, 8, 8]          36,864\n",
      "      BatchNorm2d-20              [1, 64, 8, 8]             128\n",
      "             ReLU-21              [1, 64, 8, 8]               0\n",
      "           Conv2d-22              [1, 64, 8, 8]          36,864\n",
      "      BatchNorm2d-23              [1, 64, 8, 8]             128\n",
      "             ReLU-24              [1, 64, 8, 8]               0\n",
      "       BasicBlock-25              [1, 64, 8, 8]               0\n",
      "           Conv2d-26             [1, 128, 4, 4]          73,728\n",
      "      BatchNorm2d-27             [1, 128, 4, 4]             256\n",
      "             ReLU-28             [1, 128, 4, 4]               0\n",
      "           Conv2d-29             [1, 128, 4, 4]         147,456\n",
      "      BatchNorm2d-30             [1, 128, 4, 4]             256\n",
      "           Conv2d-31             [1, 128, 4, 4]           8,192\n",
      "      BatchNorm2d-32             [1, 128, 4, 4]             256\n",
      "             ReLU-33             [1, 128, 4, 4]               0\n",
      "       BasicBlock-34             [1, 128, 4, 4]               0\n",
      "           Conv2d-35             [1, 128, 4, 4]         147,456\n",
      "      BatchNorm2d-36             [1, 128, 4, 4]             256\n",
      "             ReLU-37             [1, 128, 4, 4]               0\n",
      "           Conv2d-38             [1, 128, 4, 4]         147,456\n",
      "      BatchNorm2d-39             [1, 128, 4, 4]             256\n",
      "             ReLU-40             [1, 128, 4, 4]               0\n",
      "       BasicBlock-41             [1, 128, 4, 4]               0\n",
      "           Conv2d-42             [1, 128, 4, 4]         147,456\n",
      "      BatchNorm2d-43             [1, 128, 4, 4]             256\n",
      "             ReLU-44             [1, 128, 4, 4]               0\n",
      "           Conv2d-45             [1, 128, 4, 4]         147,456\n",
      "      BatchNorm2d-46             [1, 128, 4, 4]             256\n",
      "             ReLU-47             [1, 128, 4, 4]               0\n",
      "       BasicBlock-48             [1, 128, 4, 4]               0\n",
      "           Conv2d-49             [1, 128, 4, 4]         147,456\n",
      "      BatchNorm2d-50             [1, 128, 4, 4]             256\n",
      "             ReLU-51             [1, 128, 4, 4]               0\n",
      "           Conv2d-52             [1, 128, 4, 4]         147,456\n",
      "      BatchNorm2d-53             [1, 128, 4, 4]             256\n",
      "             ReLU-54             [1, 128, 4, 4]               0\n",
      "       BasicBlock-55             [1, 128, 4, 4]               0\n",
      "           Conv2d-56             [1, 256, 2, 2]         294,912\n",
      "      BatchNorm2d-57             [1, 256, 2, 2]             512\n",
      "             ReLU-58             [1, 256, 2, 2]               0\n",
      "           Conv2d-59             [1, 256, 2, 2]         589,824\n",
      "      BatchNorm2d-60             [1, 256, 2, 2]             512\n",
      "           Conv2d-61             [1, 256, 2, 2]          32,768\n",
      "      BatchNorm2d-62             [1, 256, 2, 2]             512\n",
      "             ReLU-63             [1, 256, 2, 2]               0\n",
      "       BasicBlock-64             [1, 256, 2, 2]               0\n",
      "           Conv2d-65             [1, 256, 2, 2]         589,824\n",
      "      BatchNorm2d-66             [1, 256, 2, 2]             512\n",
      "             ReLU-67             [1, 256, 2, 2]               0\n",
      "           Conv2d-68             [1, 256, 2, 2]         589,824\n",
      "      BatchNorm2d-69             [1, 256, 2, 2]             512\n",
      "             ReLU-70             [1, 256, 2, 2]               0\n",
      "       BasicBlock-71             [1, 256, 2, 2]               0\n",
      "           Conv2d-72             [1, 256, 2, 2]         589,824\n",
      "      BatchNorm2d-73             [1, 256, 2, 2]             512\n",
      "             ReLU-74             [1, 256, 2, 2]               0\n",
      "           Conv2d-75             [1, 256, 2, 2]         589,824\n",
      "      BatchNorm2d-76             [1, 256, 2, 2]             512\n",
      "             ReLU-77             [1, 256, 2, 2]               0\n",
      "       BasicBlock-78             [1, 256, 2, 2]               0\n",
      "           Conv2d-79             [1, 256, 2, 2]         589,824\n",
      "      BatchNorm2d-80             [1, 256, 2, 2]             512\n",
      "             ReLU-81             [1, 256, 2, 2]               0\n",
      "           Conv2d-82             [1, 256, 2, 2]         589,824\n",
      "      BatchNorm2d-83             [1, 256, 2, 2]             512\n",
      "             ReLU-84             [1, 256, 2, 2]               0\n",
      "       BasicBlock-85             [1, 256, 2, 2]               0\n",
      "           Conv2d-86             [1, 256, 2, 2]         589,824\n",
      "      BatchNorm2d-87             [1, 256, 2, 2]             512\n",
      "             ReLU-88             [1, 256, 2, 2]               0\n",
      "           Conv2d-89             [1, 256, 2, 2]         589,824\n",
      "      BatchNorm2d-90             [1, 256, 2, 2]             512\n",
      "             ReLU-91             [1, 256, 2, 2]               0\n",
      "       BasicBlock-92             [1, 256, 2, 2]               0\n",
      "           Conv2d-93             [1, 256, 2, 2]         589,824\n",
      "      BatchNorm2d-94             [1, 256, 2, 2]             512\n",
      "             ReLU-95             [1, 256, 2, 2]               0\n",
      "           Conv2d-96             [1, 256, 2, 2]         589,824\n",
      "      BatchNorm2d-97             [1, 256, 2, 2]             512\n",
      "             ReLU-98             [1, 256, 2, 2]               0\n",
      "       BasicBlock-99             [1, 256, 2, 2]               0\n",
      "          Conv2d-100             [1, 512, 1, 1]       1,179,648\n",
      "     BatchNorm2d-101             [1, 512, 1, 1]           1,024\n",
      "            ReLU-102             [1, 512, 1, 1]               0\n",
      "          Conv2d-103             [1, 512, 1, 1]       2,359,296\n",
      "     BatchNorm2d-104             [1, 512, 1, 1]           1,024\n",
      "          Conv2d-105             [1, 512, 1, 1]         131,072\n",
      "     BatchNorm2d-106             [1, 512, 1, 1]           1,024\n",
      "            ReLU-107             [1, 512, 1, 1]               0\n",
      "      BasicBlock-108             [1, 512, 1, 1]               0\n",
      "          Conv2d-109             [1, 512, 1, 1]       2,359,296\n",
      "     BatchNorm2d-110             [1, 512, 1, 1]           1,024\n",
      "            ReLU-111             [1, 512, 1, 1]               0\n",
      "          Conv2d-112             [1, 512, 1, 1]       2,359,296\n",
      "     BatchNorm2d-113             [1, 512, 1, 1]           1,024\n",
      "            ReLU-114             [1, 512, 1, 1]               0\n",
      "      BasicBlock-115             [1, 512, 1, 1]               0\n",
      "          Conv2d-116             [1, 512, 1, 1]       2,359,296\n",
      "     BatchNorm2d-117             [1, 512, 1, 1]           1,024\n",
      "            ReLU-118             [1, 512, 1, 1]               0\n",
      "          Conv2d-119             [1, 512, 1, 1]       2,359,296\n",
      "     BatchNorm2d-120             [1, 512, 1, 1]           1,024\n",
      "            ReLU-121             [1, 512, 1, 1]               0\n",
      "      BasicBlock-122             [1, 512, 1, 1]               0\n",
      "AdaptiveAvgPool2d-123             [1, 512, 1, 1]               0\n",
      "          Linear-124                     [1, 6]           3,078\n",
      "================================================================\n",
      "Total params: 21,281,478\n",
      "Trainable params: 21,281,478\n",
      "Non-trainable params: 0\n",
      "----------------------------------------------------------------\n",
      "Input size (MB): 0.00\n",
      "Forward/backward pass size (MB): 1.97\n",
      "Params size (MB): 81.18\n",
      "Estimated Total Size (MB): 83.16\n",
      "----------------------------------------------------------------\n",
      "Total_params 21281478\n",
      "Trainable_params 21281478\n"
     ]
    },
    {
     "name": "stderr",
     "output_type": "stream",
     "text": [
      "100%|██████████| 138/138 [00:20<00:00,  6.67it/s]\n",
      "100%|██████████| 14/14 [00:01<00:00,  7.56it/s]\n"
     ]
    },
    {
     "name": "stdout",
     "output_type": "stream",
     "text": [
      "Epoch: 1 \tTraining Loss: 0.494122 \tValidation Loss: 1.891462\n"
     ]
    },
    {
     "name": "stderr",
     "output_type": "stream",
     "text": [
      "100%|██████████| 138/138 [00:18<00:00,  7.30it/s]\n",
      "100%|██████████| 14/14 [00:01<00:00,  7.46it/s]\n"
     ]
    },
    {
     "name": "stdout",
     "output_type": "stream",
     "text": [
      "Epoch: 2 \tTraining Loss: 0.197753 \tValidation Loss: 1.411384\n"
     ]
    },
    {
     "name": "stderr",
     "output_type": "stream",
     "text": [
      "100%|██████████| 138/138 [00:20<00:00,  6.87it/s]\n",
      "100%|██████████| 14/14 [00:02<00:00,  6.61it/s]\n"
     ]
    },
    {
     "name": "stdout",
     "output_type": "stream",
     "text": [
      "Epoch: 3 \tTraining Loss: 0.120769 \tValidation Loss: 1.575547\n"
     ]
    },
    {
     "name": "stderr",
     "output_type": "stream",
     "text": [
      "100%|██████████| 138/138 [00:20<00:00,  6.72it/s]\n",
      "100%|██████████| 14/14 [00:02<00:00,  6.32it/s]\n"
     ]
    },
    {
     "name": "stdout",
     "output_type": "stream",
     "text": [
      "Epoch: 4 \tTraining Loss: 0.093965 \tValidation Loss: 1.681241\n"
     ]
    },
    {
     "name": "stderr",
     "output_type": "stream",
     "text": [
      "100%|██████████| 138/138 [00:20<00:00,  6.63it/s]\n",
      "100%|██████████| 14/14 [00:02<00:00,  6.35it/s]\n"
     ]
    },
    {
     "name": "stdout",
     "output_type": "stream",
     "text": [
      "Epoch: 5 \tTraining Loss: 0.075278 \tValidation Loss: 2.183626\n",
      "Lowest validation loss achieved after epoch 2\n",
      "Best Model Accuracies: [[0.900625 0.89875  0.650625 0.424375 0.394375 0.8925  ]]\n",
      "Best Model Average: 0.6935416666666666\n",
      "Best Accuracy: 0.6935416666666666 at epoch 2\n",
      "Best Model Confusion Matrix:\n",
      "[[1441   11   88   51    9    0]\n",
      " [  28 1438  110   23    0    1]\n",
      " [  89    0 1041  467    3    0]\n",
      " [  61    1  852  679    6    1]\n",
      " [  18   49  488  394  631   20]\n",
      " [  13   11   25   75   48 1428]]\n"
     ]
    },
    {
     "data": {
      "image/png": "[encoded data removed]",
      "text/plain": [
       "<Figure size 720x576 with 2 Axes>"
      ]
     },
     "metadata": {
      "needs_background": "light"
     },
     "output_type": "display_data"
    }
   ],
   "source": [
    "parameter_dict=dict(root=EXAMPLE_DATA_ROOT_FOLDER, patch_size=32, batch_size=350, task='defect', nclasses = len(TextureDataset.get_indication_classes()), \n",
    "                    device = torch.device(\"cuda\" if torch.cuda.is_available() else \"cpu\"), lr=5e-4, no_epochs=5, keep_angles=True, test_sub_sample=200,num_workers=0, modeltype='resnet34')\n",
    "run(parameter_dict)"
   ]
  },
  {
   "cell_type": "code",
   "execution_count": 168,
   "metadata": {
    "colab": {
     "base_uri": "https://localhost:8080/"
    },
    "executionInfo": {
     "elapsed": 339,
     "status": "ok",
     "timestamp": 1653449023428,
     "user": {
      "displayName": "Darpan Kapadia",
      "userId": "18117898231472413261"
     },
     "user_tz": -720
    },
    "id": "8WVyqxsuPTd5",
    "outputId": "633b9749-6e60-49b3-8832-3ca8ef9b8540"
   },
   "outputs": [
    {
     "name": "stdout",
     "output_type": "stream",
     "text": [
      "c:\\Users\\Playtech\\Documents\\git\\p4p-personal\n"
     ]
    }
   ],
   "source": [
    "import os\n",
    "\n",
    "print(os.getcwd())\n"
   ]
  }
 ],
 "metadata": {
  "accelerator": "GPU",
  "colab": {
   "authorship_tag": "ABX9TyPzsdnVm94RKjUDRAgzZfje",
   "collapsed_sections": [],
   "mount_file_id": "1NrOf_EtA2rvUynZpAKf-gb_MBpPrtKd3",
   "name": "Fabric Structure Classifier.ipynb",
   "provenance": []
  },
  "interpreter": {
   "hash": "118249667e0191685dee8917fe94f5b5a8833d9b0d1387b0f4ac632b64c16a12"
  },
  "kernelspec": {
   "display_name": "Python 3.9.13 ('env': venv)",
   "language": "python",
   "name": "python3"
  },
  "language_info": {
   "codemirror_mode": {
    "name": "ipython",
    "version": 3
   },
   "file_extension": ".py",
   "mimetype": "text/x-python",
   "name": "python",
   "nbconvert_exporter": "python",
   "pygments_lexer": "ipython3",
   "version": "3.9.13"
  },
  "widgets": {
   "application/vnd.jupyter.widget-state+json": {
    "0dcd919177a64e02816e1c77f43b6b14": {
     "model_module": "@jupyter-widgets/controls",
     "model_module_version": "1.5.0",
     "model_name": "DescriptionStyleModel",
     "state": {
      "_model_module": "@jupyter-widgets/controls",
      "_model_module_version": "1.5.0",
      "_model_name": "DescriptionStyleModel",
      "_view_count": null,
      "_view_module": "@jupyter-widgets/base",
      "_view_module_version": "1.2.0",
      "_view_name": "StyleView",
      "description_width": ""
     }
    },
    "22ddeb169d414bab81b6a2d639c2b021": {
     "model_module": "@jupyter-widgets/base",
     "model_module_version": "1.2.0",
     "model_name": "LayoutModel",
     "state": {
      "_model_module": "@jupyter-widgets/base",
      "_model_module_version": "1.2.0",
      "_model_name": "LayoutModel",
      "_view_count": null,
      "_view_module": "@jupyter-widgets/base",
      "_view_module_version": "1.2.0",
      "_view_name": "LayoutView",
      "align_content": null,
      "align_items": null,
      "align_self": null,
      "border": null,
      "bottom": null,
      "display": null,
      "flex": null,
      "flex_flow": null,
      "grid_area": null,
      "grid_auto_columns": null,
      "grid_auto_flow": null,
      "grid_auto_rows": null,
      "grid_column": null,
      "grid_gap": null,
      "grid_row": null,
      "grid_template_areas": null,
      "grid_template_columns": null,
      "grid_template_rows": null,
      "height": null,
      "justify_content": null,
      "justify_items": null,
      "left": null,
      "margin": null,
      "max_height": null,
      "max_width": null,
      "min_height": null,
      "min_width": null,
      "object_fit": null,
      "object_position": null,
      "order": null,
      "overflow": null,
      "overflow_x": null,
      "overflow_y": null,
      "padding": null,
      "right": null,
      "top": null,
      "visibility": null,
      "width": null
     }
    },
    "23a1722f22c14cdda0c4e589cd7dcda4": {
     "model_module": "@jupyter-widgets/controls",
     "model_module_version": "1.5.0",
     "model_name": "ProgressStyleModel",
     "state": {
      "_model_module": "@jupyter-widgets/controls",
      "_model_module_version": "1.5.0",
      "_model_name": "ProgressStyleModel",
      "_view_count": null,
      "_view_module": "@jupyter-widgets/base",
      "_view_module_version": "1.2.0",
      "_view_name": "StyleView",
      "bar_color": null,
      "description_width": ""
     }
    },
    "2bc3506e9bf04c5bb7f5483dc5ee8fcf": {
     "model_module": "@jupyter-widgets/controls",
     "model_module_version": "1.5.0",
     "model_name": "HTMLModel",
     "state": {
      "_dom_classes": [],
      "_model_module": "@jupyter-widgets/controls",
      "_model_module_version": "1.5.0",
      "_model_name": "HTMLModel",
      "_view_count": null,
      "_view_module": "@jupyter-widgets/controls",
      "_view_module_version": "1.5.0",
      "_view_name": "HTMLView",
      "description": "",
      "description_tooltip": null,
      "layout": "IPY_MODEL_63cff91fd70446e1b7f393470220130b",
      "placeholder": "​",
      "style": "IPY_MODEL_0dcd919177a64e02816e1c77f43b6b14",
      "value": " 12/12 [00:24&lt;00:00,  1.99s/it]"
     }
    },
    "389ffff49d474f1681b22f5fb3a4fdd2": {
     "model_module": "@jupyter-widgets/base",
     "model_module_version": "1.2.0",
     "model_name": "LayoutModel",
     "state": {
      "_model_module": "@jupyter-widgets/base",
      "_model_module_version": "1.2.0",
      "_model_name": "LayoutModel",
      "_view_count": null,
      "_view_module": "@jupyter-widgets/base",
      "_view_module_version": "1.2.0",
      "_view_name": "LayoutView",
      "align_content": null,
      "align_items": null,
      "align_self": null,
      "border": null,
      "bottom": null,
      "display": null,
      "flex": null,
      "flex_flow": null,
      "grid_area": null,
      "grid_auto_columns": null,
      "grid_auto_flow": null,
      "grid_auto_rows": null,
      "grid_column": null,
      "grid_gap": null,
      "grid_row": null,
      "grid_template_areas": null,
      "grid_template_columns": null,
      "grid_template_rows": null,
      "height": null,
      "justify_content": null,
      "justify_items": null,
      "left": null,
      "margin": null,
      "max_height": null,
      "max_width": null,
      "min_height": null,
      "min_width": null,
      "object_fit": null,
      "object_position": null,
      "order": null,
      "overflow": null,
      "overflow_x": null,
      "overflow_y": null,
      "padding": null,
      "right": null,
      "top": null,
      "visibility": null,
      "width": null
     }
    },
    "3cc1431196864e97b53e930a34a4944a": {
     "model_module": "@jupyter-widgets/base",
     "model_module_version": "1.2.0",
     "model_name": "LayoutModel",
     "state": {
      "_model_module": "@jupyter-widgets/base",
      "_model_module_version": "1.2.0",
      "_model_name": "LayoutModel",
      "_view_count": null,
      "_view_module": "@jupyter-widgets/base",
      "_view_module_version": "1.2.0",
      "_view_name": "LayoutView",
      "align_content": null,
      "align_items": null,
      "align_self": null,
      "border": null,
      "bottom": null,
      "display": null,
      "flex": null,
      "flex_flow": null,
      "grid_area": null,
      "grid_auto_columns": null,
      "grid_auto_flow": null,
      "grid_auto_rows": null,
      "grid_column": null,
      "grid_gap": null,
      "grid_row": null,
      "grid_template_areas": null,
      "grid_template_columns": null,
      "grid_template_rows": null,
      "height": null,
      "justify_content": null,
      "justify_items": null,
      "left": null,
      "margin": null,
      "max_height": null,
      "max_width": null,
      "min_height": null,
      "min_width": null,
      "object_fit": null,
      "object_position": null,
      "order": null,
      "overflow": null,
      "overflow_x": null,
      "overflow_y": null,
      "padding": null,
      "right": null,
      "top": null,
      "visibility": null,
      "width": null
     }
    },
    "44c97b8be972447d8933f3d670c31301": {
     "model_module": "@jupyter-widgets/base",
     "model_module_version": "1.2.0",
     "model_name": "LayoutModel",
     "state": {
      "_model_module": "@jupyter-widgets/base",
      "_model_module_version": "1.2.0",
      "_model_name": "LayoutModel",
      "_view_count": null,
      "_view_module": "@jupyter-widgets/base",
      "_view_module_version": "1.2.0",
      "_view_name": "LayoutView",
      "align_content": null,
      "align_items": null,
      "align_self": null,
      "border": null,
      "bottom": null,
      "display": null,
      "flex": null,
      "flex_flow": null,
      "grid_area": null,
      "grid_auto_columns": null,
      "grid_auto_flow": null,
      "grid_auto_rows": null,
      "grid_column": null,
      "grid_gap": null,
      "grid_row": null,
      "grid_template_areas": null,
      "grid_template_columns": null,
      "grid_template_rows": null,
      "height": null,
      "justify_content": null,
      "justify_items": null,
      "left": null,
      "margin": null,
      "max_height": null,
      "max_width": null,
      "min_height": null,
      "min_width": null,
      "object_fit": null,
      "object_position": null,
      "order": null,
      "overflow": null,
      "overflow_x": null,
      "overflow_y": null,
      "padding": null,
      "right": null,
      "top": null,
      "visibility": null,
      "width": null
     }
    },
    "49ba21f3a1c24519ae44fe76d8c0922c": {
     "model_module": "@jupyter-widgets/base",
     "model_module_version": "1.2.0",
     "model_name": "LayoutModel",
     "state": {
      "_model_module": "@jupyter-widgets/base",
      "_model_module_version": "1.2.0",
      "_model_name": "LayoutModel",
      "_view_count": null,
      "_view_module": "@jupyter-widgets/base",
      "_view_module_version": "1.2.0",
      "_view_name": "LayoutView",
      "align_content": null,
      "align_items": null,
      "align_self": null,
      "border": null,
      "bottom": null,
      "display": null,
      "flex": null,
      "flex_flow": null,
      "grid_area": null,
      "grid_auto_columns": null,
      "grid_auto_flow": null,
      "grid_auto_rows": null,
      "grid_column": null,
      "grid_gap": null,
      "grid_row": null,
      "grid_template_areas": null,
      "grid_template_columns": null,
      "grid_template_rows": null,
      "height": null,
      "justify_content": null,
      "justify_items": null,
      "left": null,
      "margin": null,
      "max_height": null,
      "max_width": null,
      "min_height": null,
      "min_width": null,
      "object_fit": null,
      "object_position": null,
      "order": null,
      "overflow": null,
      "overflow_x": null,
      "overflow_y": null,
      "padding": null,
      "right": null,
      "top": null,
      "visibility": null,
      "width": null
     }
    },
    "4d74f398952545a896337b79933c7b23": {
     "model_module": "@jupyter-widgets/base",
     "model_module_version": "1.2.0",
     "model_name": "LayoutModel",
     "state": {
      "_model_module": "@jupyter-widgets/base",
      "_model_module_version": "1.2.0",
      "_model_name": "LayoutModel",
      "_view_count": null,
      "_view_module": "@jupyter-widgets/base",
      "_view_module_version": "1.2.0",
      "_view_name": "LayoutView",
      "align_content": null,
      "align_items": null,
      "align_self": null,
      "border": null,
      "bottom": null,
      "display": null,
      "flex": null,
      "flex_flow": null,
      "grid_area": null,
      "grid_auto_columns": null,
      "grid_auto_flow": null,
      "grid_auto_rows": null,
      "grid_column": null,
      "grid_gap": null,
      "grid_row": null,
      "grid_template_areas": null,
      "grid_template_columns": null,
      "grid_template_rows": null,
      "height": null,
      "justify_content": null,
      "justify_items": null,
      "left": null,
      "margin": null,
      "max_height": null,
      "max_width": null,
      "min_height": null,
      "min_width": null,
      "object_fit": null,
      "object_position": null,
      "order": null,
      "overflow": null,
      "overflow_x": null,
      "overflow_y": null,
      "padding": null,
      "right": null,
      "top": null,
      "visibility": null,
      "width": null
     }
    },
    "63cff91fd70446e1b7f393470220130b": {
     "model_module": "@jupyter-widgets/base",
     "model_module_version": "1.2.0",
     "model_name": "LayoutModel",
     "state": {
      "_model_module": "@jupyter-widgets/base",
      "_model_module_version": "1.2.0",
      "_model_name": "LayoutModel",
      "_view_count": null,
      "_view_module": "@jupyter-widgets/base",
      "_view_module_version": "1.2.0",
      "_view_name": "LayoutView",
      "align_content": null,
      "align_items": null,
      "align_self": null,
      "border": null,
      "bottom": null,
      "display": null,
      "flex": null,
      "flex_flow": null,
      "grid_area": null,
      "grid_auto_columns": null,
      "grid_auto_flow": null,
      "grid_auto_rows": null,
      "grid_column": null,
      "grid_gap": null,
      "grid_row": null,
      "grid_template_areas": null,
      "grid_template_columns": null,
      "grid_template_rows": null,
      "height": null,
      "justify_content": null,
      "justify_items": null,
      "left": null,
      "margin": null,
      "max_height": null,
      "max_width": null,
      "min_height": null,
      "min_width": null,
      "object_fit": null,
      "object_position": null,
      "order": null,
      "overflow": null,
      "overflow_x": null,
      "overflow_y": null,
      "padding": null,
      "right": null,
      "top": null,
      "visibility": null,
      "width": null
     }
    },
    "743606c0275d40b48f6b2198c1295f05": {
     "model_module": "@jupyter-widgets/controls",
     "model_module_version": "1.5.0",
     "model_name": "ProgressStyleModel",
     "state": {
      "_model_module": "@jupyter-widgets/controls",
      "_model_module_version": "1.5.0",
      "_model_name": "ProgressStyleModel",
      "_view_count": null,
      "_view_module": "@jupyter-widgets/base",
      "_view_module_version": "1.2.0",
      "_view_name": "StyleView",
      "bar_color": null,
      "description_width": ""
     }
    },
    "7a5fe5d405424e59a5e0837f8b198bc4": {
     "model_module": "@jupyter-widgets/controls",
     "model_module_version": "1.5.0",
     "model_name": "DescriptionStyleModel",
     "state": {
      "_model_module": "@jupyter-widgets/controls",
      "_model_module_version": "1.5.0",
      "_model_name": "DescriptionStyleModel",
      "_view_count": null,
      "_view_module": "@jupyter-widgets/base",
      "_view_module_version": "1.2.0",
      "_view_name": "StyleView",
      "description_width": ""
     }
    },
    "83c1340e6cb9423283f9f8492d80a6b2": {
     "model_module": "@jupyter-widgets/controls",
     "model_module_version": "1.5.0",
     "model_name": "DescriptionStyleModel",
     "state": {
      "_model_module": "@jupyter-widgets/controls",
      "_model_module_version": "1.5.0",
      "_model_name": "DescriptionStyleModel",
      "_view_count": null,
      "_view_module": "@jupyter-widgets/base",
      "_view_module_version": "1.2.0",
      "_view_name": "StyleView",
      "description_width": ""
     }
    },
    "9db71a75911545ec90586597769a0816": {
     "model_module": "@jupyter-widgets/controls",
     "model_module_version": "1.5.0",
     "model_name": "FloatProgressModel",
     "state": {
      "_dom_classes": [],
      "_model_module": "@jupyter-widgets/controls",
      "_model_module_version": "1.5.0",
      "_model_name": "FloatProgressModel",
      "_view_count": null,
      "_view_module": "@jupyter-widgets/controls",
      "_view_module_version": "1.5.0",
      "_view_name": "ProgressView",
      "bar_style": "success",
      "description": "",
      "description_tooltip": null,
      "layout": "IPY_MODEL_22ddeb169d414bab81b6a2d639c2b021",
      "max": 12,
      "min": 0,
      "orientation": "horizontal",
      "style": "IPY_MODEL_23a1722f22c14cdda0c4e589cd7dcda4",
      "value": 12
     }
    },
    "a77407723e23428b91793ca5e8249088": {
     "model_module": "@jupyter-widgets/controls",
     "model_module_version": "1.5.0",
     "model_name": "FloatProgressModel",
     "state": {
      "_dom_classes": [],
      "_model_module": "@jupyter-widgets/controls",
      "_model_module_version": "1.5.0",
      "_model_name": "FloatProgressModel",
      "_view_count": null,
      "_view_module": "@jupyter-widgets/controls",
      "_view_module_version": "1.5.0",
      "_view_name": "ProgressView",
      "bar_style": "danger",
      "description": "",
      "description_tooltip": null,
      "layout": "IPY_MODEL_3cc1431196864e97b53e930a34a4944a",
      "max": 2,
      "min": 0,
      "orientation": "horizontal",
      "style": "IPY_MODEL_743606c0275d40b48f6b2198c1295f05",
      "value": 0
     }
    },
    "ae77f2eb878c4b2ab9818af24b24748e": {
     "model_module": "@jupyter-widgets/controls",
     "model_module_version": "1.5.0",
     "model_name": "HBoxModel",
     "state": {
      "_dom_classes": [],
      "_model_module": "@jupyter-widgets/controls",
      "_model_module_version": "1.5.0",
      "_model_name": "HBoxModel",
      "_view_count": null,
      "_view_module": "@jupyter-widgets/controls",
      "_view_module_version": "1.5.0",
      "_view_name": "HBoxView",
      "box_style": "",
      "children": [
       "IPY_MODEL_f7528c7cfcf5442db97a2acf8b13e710",
       "IPY_MODEL_a77407723e23428b91793ca5e8249088",
       "IPY_MODEL_c89827caf89c4ebb9f83cb4412155533"
      ],
      "layout": "IPY_MODEL_389ffff49d474f1681b22f5fb3a4fdd2"
     }
    },
    "bd482f612083441c9608defe0342aef7": {
     "model_module": "@jupyter-widgets/controls",
     "model_module_version": "1.5.0",
     "model_name": "HBoxModel",
     "state": {
      "_dom_classes": [],
      "_model_module": "@jupyter-widgets/controls",
      "_model_module_version": "1.5.0",
      "_model_name": "HBoxModel",
      "_view_count": null,
      "_view_module": "@jupyter-widgets/controls",
      "_view_module_version": "1.5.0",
      "_view_name": "HBoxView",
      "box_style": "",
      "children": [
       "IPY_MODEL_c05fb99191224e08923964da4989c535",
       "IPY_MODEL_9db71a75911545ec90586597769a0816",
       "IPY_MODEL_2bc3506e9bf04c5bb7f5483dc5ee8fcf"
      ],
      "layout": "IPY_MODEL_4d74f398952545a896337b79933c7b23"
     }
    },
    "c05fb99191224e08923964da4989c535": {
     "model_module": "@jupyter-widgets/controls",
     "model_module_version": "1.5.0",
     "model_name": "HTMLModel",
     "state": {
      "_dom_classes": [],
      "_model_module": "@jupyter-widgets/controls",
      "_model_module_version": "1.5.0",
      "_model_name": "HTMLModel",
      "_view_count": null,
      "_view_module": "@jupyter-widgets/controls",
      "_view_module_version": "1.5.0",
      "_view_name": "HTMLView",
      "description": "",
      "description_tooltip": null,
      "layout": "IPY_MODEL_ecbbe60771994a0b92ac1c3c66e4a37b",
      "placeholder": "​",
      "style": "IPY_MODEL_cebc85536e6246728b22fa16680f5d48",
      "value": "100%"
     }
    },
    "c89827caf89c4ebb9f83cb4412155533": {
     "model_module": "@jupyter-widgets/controls",
     "model_module_version": "1.5.0",
     "model_name": "HTMLModel",
     "state": {
      "_dom_classes": [],
      "_model_module": "@jupyter-widgets/controls",
      "_model_module_version": "1.5.0",
      "_model_name": "HTMLModel",
      "_view_count": null,
      "_view_module": "@jupyter-widgets/controls",
      "_view_module_version": "1.5.0",
      "_view_name": "HTMLView",
      "description": "",
      "description_tooltip": null,
      "layout": "IPY_MODEL_49ba21f3a1c24519ae44fe76d8c0922c",
      "placeholder": "​",
      "style": "IPY_MODEL_7a5fe5d405424e59a5e0837f8b198bc4",
      "value": " 0/2 [00:02&lt;?, ?it/s]"
     }
    },
    "cebc85536e6246728b22fa16680f5d48": {
     "model_module": "@jupyter-widgets/controls",
     "model_module_version": "1.5.0",
     "model_name": "DescriptionStyleModel",
     "state": {
      "_model_module": "@jupyter-widgets/controls",
      "_model_module_version": "1.5.0",
      "_model_name": "DescriptionStyleModel",
      "_view_count": null,
      "_view_module": "@jupyter-widgets/base",
      "_view_module_version": "1.2.0",
      "_view_name": "StyleView",
      "description_width": ""
     }
    },
    "ecbbe60771994a0b92ac1c3c66e4a37b": {
     "model_module": "@jupyter-widgets/base",
     "model_module_version": "1.2.0",
     "model_name": "LayoutModel",
     "state": {
      "_model_module": "@jupyter-widgets/base",
      "_model_module_version": "1.2.0",
      "_model_name": "LayoutModel",
      "_view_count": null,
      "_view_module": "@jupyter-widgets/base",
      "_view_module_version": "1.2.0",
      "_view_name": "LayoutView",
      "align_content": null,
      "align_items": null,
      "align_self": null,
      "border": null,
      "bottom": null,
      "display": null,
      "flex": null,
      "flex_flow": null,
      "grid_area": null,
      "grid_auto_columns": null,
      "grid_auto_flow": null,
      "grid_auto_rows": null,
      "grid_column": null,
      "grid_gap": null,
      "grid_row": null,
      "grid_template_areas": null,
      "grid_template_columns": null,
      "grid_template_rows": null,
      "height": null,
      "justify_content": null,
      "justify_items": null,
      "left": null,
      "margin": null,
      "max_height": null,
      "max_width": null,
      "min_height": null,
      "min_width": null,
      "object_fit": null,
      "object_position": null,
      "order": null,
      "overflow": null,
      "overflow_x": null,
      "overflow_y": null,
      "padding": null,
      "right": null,
      "top": null,
      "visibility": null,
      "width": null
     }
    },
    "f7528c7cfcf5442db97a2acf8b13e710": {
     "model_module": "@jupyter-widgets/controls",
     "model_module_version": "1.5.0",
     "model_name": "HTMLModel",
     "state": {
      "_dom_classes": [],
      "_model_module": "@jupyter-widgets/controls",
      "_model_module_version": "1.5.0",
      "_model_name": "HTMLModel",
      "_view_count": null,
      "_view_module": "@jupyter-widgets/controls",
      "_view_module_version": "1.5.0",
      "_view_name": "HTMLView",
      "description": "",
      "description_tooltip": null,
      "layout": "IPY_MODEL_44c97b8be972447d8933f3d670c31301",
      "placeholder": "​",
      "style": "IPY_MODEL_83c1340e6cb9423283f9f8492d80a6b2",
      "value": "  0%"
     }
    }
   }
  }
 },
 "nbformat": 4,
 "nbformat_minor": 1
}
